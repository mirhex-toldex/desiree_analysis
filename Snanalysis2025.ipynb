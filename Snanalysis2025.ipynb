{
 "cells": [
  {
   "cell_type": "code",
   "execution_count": 39,
   "metadata": {},
   "outputs": [
    {
     "data": {
      "text/plain": [
       "<module 'process_data' from '/Users/xnimir/Desktop/Sn exp 2024/process_data.py'>"
      ]
     },
     "execution_count": 39,
     "metadata": {},
     "output_type": "execute_result"
    }
   ],
   "source": [
    "import process_data\n",
    "from process_data import get_dfs\n",
    "import matplotlib.pyplot as plt\n",
    "import numpy as np\n",
    "import pandas as pd\n",
    "from scipy.optimize import curve_fit   \n",
    "import os\n",
    "import importlib\n",
    "importlib.reload(process_data)\n"
   ]
  },
  {
   "cell_type": "code",
   "execution_count": 34,
   "metadata": {},
   "outputs": [],
   "source": [
    "def gaussian(x, A, mu, sigma, B):\n",
    "    return A * np.exp(-((x - mu)**2) / (2 * sigma**2)) + B"
   ]
  },
  {
   "cell_type": "code",
   "execution_count": 35,
   "metadata": {},
   "outputs": [],
   "source": [
    "def fitting(x,y):\n",
    "    x_fit = np.linspace(np.min(x), np.max(x), 500)\n",
    "\n",
    "    initial_guess = [np.max(y), x[np.argmax(y)], np.std(x), 0]\n",
    "    bounds = ([0, 0, 0, 0], [np.inf, np.max(x), np.inf, np.inf])\n",
    "    popt, pcov = curve_fit(gaussian, x, y, p0=initial_guess, bounds=bounds, sigma=np.sqrt(y), absolute_sigma=True)\n",
    "    y_fit = gaussian(x_fit, *popt)\n",
    "    # print(initial_guess)\n",
    "    # print(popt)\n",
    "\n",
    "    return x_fit, y_fit, popt, pcov"
   ]
  },
  {
   "cell_type": "code",
   "execution_count": 36,
   "metadata": {},
   "outputs": [],
   "source": [
    "def get_scatter_plot(data_df, freq_df, file):\n",
    "    x = data_df['Bin center']\n",
    "    y = data_df['Count raw']\n",
    "    x_fit, y_fit, popt, pcov = fitting(x, y)\n",
    "\n",
    "    fwhm = 2.355 * popt[2] * 1E6\n",
    "    fit_errors = np.sqrt(np.diag(pcov))\n",
    "    mu_error = fit_errors[1]\n",
    "\n",
    "    plt.errorbar(x, y, yerr=np.sqrt(y), fmt='o', capsize=3)\n",
    "    plt.plot(x_fit, y_fit)\n",
    "    plt.scatter(freq_df['Bin center'], freq_df['Count raw'], color='red')\n",
    "    plt.title(f'{file}')\n",
    "    plt.xlabel('frequency (THz)')\n",
    "    plt.ylabel('binned counts')\n",
    "\n",
    "    label = f'mu={popt[1]:.6f} THz\\nfwhm={fwhm:.2f} MHz'\n",
    "    plt.text(0.95, 0.95, label, fontsize=10,\n",
    "                        verticalalignment='top', horizontalalignment='right',\n",
    "                        transform=plt.gca().transAxes) \n",
    "    plt.show()\n",
    "\n",
    "    return popt[1], fwhm"
   ]
  },
  {
   "cell_type": "code",
   "execution_count": 37,
   "metadata": {},
   "outputs": [],
   "source": [
    "def main(folder_path):\n",
    "    for filename in os.listdir(folder_path):\n",
    "        if filename.endswith('.tdms'):\n",
    "            scaled_df, time_df, freq_df = get_dfs(folder_path)\n",
    "            get_scatter_plot(scaled_df, freq_df, filename)"
   ]
  },
  {
   "cell_type": "code",
   "execution_count": 40,
   "metadata": {},
   "outputs": [
    {
     "name": "stdout",
     "output_type": "stream",
     "text": [
      "processing,  20241024_1848_Sn-120_ref2_set3.tdms\n",
      "processing,  20241024_1656_Sn-120_set3_ref1.tdms\n",
      "processing,  20241024_1730_Sn-116_set3.tdms\n",
      "processing,  20241024_2309_Sn-120_ref5_set3.tdms\n"
     ]
    },
    {
     "ename": "ValueError",
     "evalue": "too many values to unpack (expected 3)",
     "output_type": "error",
     "traceback": [
      "\u001b[0;31m---------------------------------------------------------------------------\u001b[0m",
      "\u001b[0;31mValueError\u001b[0m                                Traceback (most recent call last)",
      "Cell \u001b[0;32mIn[40], line 4\u001b[0m\n\u001b[1;32m      2\u001b[0m     folder_path \u001b[38;5;241m=\u001b[39m \u001b[38;5;124m'\u001b[39m\u001b[38;5;124m/Users/xnimir/Desktop/Sn exp 2024/data/set3/\u001b[39m\u001b[38;5;124m'\u001b[39m\n\u001b[1;32m      3\u001b[0m     main(folder_path)\n\u001b[0;32m----> 4\u001b[0m \u001b[43msingle_set\u001b[49m\u001b[43m(\u001b[49m\u001b[43m)\u001b[49m\n",
      "Cell \u001b[0;32mIn[40], line 3\u001b[0m, in \u001b[0;36msingle_set\u001b[0;34m()\u001b[0m\n\u001b[1;32m      1\u001b[0m \u001b[38;5;28;01mdef\u001b[39;00m \u001b[38;5;21msingle_set\u001b[39m():\n\u001b[1;32m      2\u001b[0m     folder_path \u001b[38;5;241m=\u001b[39m \u001b[38;5;124m'\u001b[39m\u001b[38;5;124m/Users/xnimir/Desktop/Sn exp 2024/data/set3/\u001b[39m\u001b[38;5;124m'\u001b[39m\n\u001b[0;32m----> 3\u001b[0m     \u001b[43mmain\u001b[49m\u001b[43m(\u001b[49m\u001b[43mfolder_path\u001b[49m\u001b[43m)\u001b[49m\n",
      "Cell \u001b[0;32mIn[37], line 4\u001b[0m, in \u001b[0;36mmain\u001b[0;34m(folder_path)\u001b[0m\n\u001b[1;32m      2\u001b[0m \u001b[38;5;28;01mfor\u001b[39;00m filename \u001b[38;5;129;01min\u001b[39;00m os\u001b[38;5;241m.\u001b[39mlistdir(folder_path):\n\u001b[1;32m      3\u001b[0m     \u001b[38;5;28;01mif\u001b[39;00m filename\u001b[38;5;241m.\u001b[39mendswith(\u001b[38;5;124m'\u001b[39m\u001b[38;5;124m.tdms\u001b[39m\u001b[38;5;124m'\u001b[39m):\n\u001b[0;32m----> 4\u001b[0m         scaled_df, time_df, freq_df \u001b[38;5;241m=\u001b[39m get_dfs(folder_path)\n\u001b[1;32m      5\u001b[0m         get_scatter_plot(scaled_df, freq_df, filename)\n",
      "\u001b[0;31mValueError\u001b[0m: too many values to unpack (expected 3)"
     ]
    }
   ],
   "source": [
    "def single_set():\n",
    "    folder_path = '/Users/xnimir/Desktop/Sn exp 2024/data/set3/'\n",
    "    main(folder_path)\n",
    "single_set()"
   ]
  },
  {
   "cell_type": "code",
   "execution_count": null,
   "metadata": {},
   "outputs": [],
   "source": []
  }
 ],
 "metadata": {
  "kernelspec": {
   "display_name": "base",
   "language": "python",
   "name": "python3"
  },
  "language_info": {
   "codemirror_mode": {
    "name": "ipython",
    "version": 3
   },
   "file_extension": ".py",
   "mimetype": "text/x-python",
   "name": "python",
   "nbconvert_exporter": "python",
   "pygments_lexer": "ipython3",
   "version": "3.10.6"
  }
 },
 "nbformat": 4,
 "nbformat_minor": 2
}
